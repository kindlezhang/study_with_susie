{
 "cells": [
  {
   "cell_type": "markdown",
   "id": "549b520a",
   "metadata": {},
   "source": [
    "# Writing and Executing R Code in Jupyter Notebooks\n",
    "\n",
    "This notebook demonstrates how to write and execute R code in a Jupyter notebook using the IRKernel."
   ]
  },
  {
   "cell_type": "markdown",
   "id": "9b993b19",
   "metadata": {},
   "source": [
    "## Install and Load IRKernel\n",
    "\n",
    "To use R in Jupyter, you need to install the IRKernel package in R and load it for Jupyter integration."
   ]
  },
  {
   "cell_type": "code",
   "execution_count": null,
   "id": "73ae0bed",
   "metadata": {
    "vscode": {
     "languageId": "r"
    }
   },
   "outputs": [],
   "source": [
    "# Install IRKernel in R\n",
    "# Run the following commands in an R environment to install IRKernel:\n",
    "# install.packages('IRkernel')\n",
    "# IRkernel::installspec(user = FALSE)  # Register the kernel in Jupyter"
   ]
  },
  {
   "cell_type": "markdown",
   "id": "39011990",
   "metadata": {},
   "source": [
    "## Set Up R Kernel in Jupyter\n",
    "\n",
    "After installing IRKernel, verify that the R kernel is available in Jupyter. Open Jupyter Notebook or JupyterLab and check the kernel dropdown menu for \"R\"."
   ]
  },
  {
   "cell_type": "markdown",
   "id": "362b69f5",
   "metadata": {},
   "source": [
    "### Verifying Installation\n",
    "\n",
    "1. Open a terminal and run `jupyter kernelspec list`.\n",
    "2. Ensure that \"ir\" (or a similar name) appears in the list of available kernels.\n",
    "3. If the kernel is not listed, re-run `IRkernel::installspec()` in R."
   ]
  },
  {
   "cell_type": "markdown",
   "id": "b7c3dac4",
   "metadata": {},
   "source": [
    "## Write and Execute R Code\n",
    "\n",
    "Once the R kernel is set up, you can write and execute R code directly in Jupyter notebook cells. Below is an example of basic data manipulation and plotting in R."
   ]
  },
  {
   "cell_type": "code",
   "execution_count": null,
   "id": "78be4a45",
   "metadata": {
    "vscode": {
     "languageId": "r"
    }
   },
   "outputs": [],
   "source": [
    "# Example: Basic Data Manipulation in R\n",
    "# Create a simple data frame\n",
    "data <- data.frame(\n",
    "  x = 1:10,\n",
    "  y = rnorm(10)\n",
    ")\n",
    "\n",
    "# Display the data frame\n",
    "print(data)"
   ]
  },
  {
   "cell_type": "code",
   "execution_count": null,
   "id": "2916f15f",
   "metadata": {
    "vscode": {
     "languageId": "r"
    }
   },
   "outputs": [],
   "source": [
    "# Example: Plotting in R\n",
    "# Install ggplot2 if not already installed\n",
    "# install.packages('ggplot2')\n",
    "\n",
    "# Load ggplot2\n",
    "library(ggplot2)\n",
    "\n",
    "# Create a scatter plot\n",
    "ggplot(data, aes(x = x, y = y)) +\n",
    "  geom_point() +\n",
    "  ggtitle(\"Scatter Plot of x vs y\")"
   ]
  },
  {
   "cell_type": "markdown",
   "id": "8c961bcb",
   "metadata": {},
   "source": [
    "## Save and Export the Notebook\n",
    "\n",
    "To save your work, click the save icon in Jupyter. You can also export the notebook to other formats like HTML or PDF."
   ]
  },
  {
   "cell_type": "markdown",
   "id": "5d55c99d",
   "metadata": {},
   "source": [
    "### Exporting the Notebook\n",
    "\n",
    "1. Go to `File > Download as` in the Jupyter menu.\n",
    "2. Choose the desired format, such as HTML or PDF.\n",
    "3. Follow the prompts to save the exported file to your system."
   ]
  },
  {
   "cell_type": "markdown",
   "id": "1306d4d7",
   "metadata": {},
   "source": [
    "How about Rmd and R?\n",
    "\n",
    "https://mp.weixin.qq.com/s?__biz=MzI0MTIzNjYwNQ==&mid=2247490475&idx=1&sn=a12e6341e7b5df23115d9911b2532c48&chksm=e90ff4b9de787daf31e3d36cd38d8b86fd0212e5e4273f2a8a532ac1bc8c6f10f0dad2a00070&token=145509961&lang=zh_CN#rd"
   ]
  },
  {
   "cell_type": "code",
   "execution_count": null,
   "id": "691d7d1e",
   "metadata": {
    "vscode": {
     "languageId": "r"
    }
   },
   "outputs": [],
   "source": [
    "install.packages(\"languageserver\")\n",
    "install.packages(\"httpgd\")\n",
    "pip install -U radian\n",
    "# enter `radian`"
   ]
  },
  {
   "cell_type": "markdown",
   "id": "8746f66e",
   "metadata": {},
   "source": [
    "// begin of R language shortcuts\n",
    "[{\n",
    "    \"key\": \"ctrl+shift+m\",\n",
    "    \"command\": \"editor.action.insertSnippet\",\n",
    "    \"when\": \"editorTextFocus && editorLangId == 'r'\",\n",
    "    \"args\": {\n",
    "        \"snippet\": \" %>% \"\n",
    "    }\n",
    "},\n",
    "\n",
    "{\n",
    "    \"key\": \"ctrl+enter\",\n",
    "    //\"command\": [ \"python.execSelectionInTerminal\", \"cursorDown\" ],\n",
    "    \"command\": \"macros.pythonExecSelectionAndCursorDown\",\n",
    "    \"when\": \"editorTextFocus && editorLangId == 'python'\"\n",
    "}\n",
    "]"
   ]
  },
  {
   "cell_type": "markdown",
   "id": "d43470b7",
   "metadata": {},
   "source": []
  }
 ],
 "metadata": {
  "kernelspec": {
   "display_name": "R",
   "language": "R",
   "name": "ir"
  },
  "language_info": {
   "name": "R"
  }
 },
 "nbformat": 4,
 "nbformat_minor": 5
}
