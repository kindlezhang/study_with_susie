{
 "cells": [
  {
   "cell_type": "markdown",
   "id": "fd049083",
   "metadata": {},
   "source": [
    "# loss function\n",
    "\n",
    "## \n",
    "\n",
    "https://www.bilibili.com/video/BV1r64y1s7fU/?spm_id_from=333.337.search-card.all.click&vd_source=d0753af9f821371d3796ab81dbd99640\n",
    "\n",
    "二分类的交叉熵就是逻辑回归的损失函数"
   ]
  }
 ],
 "metadata": {
  "language_info": {
   "name": "python"
  }
 },
 "nbformat": 4,
 "nbformat_minor": 5
}
